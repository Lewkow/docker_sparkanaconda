{
 "cells": [
  {
   "cell_type": "markdown",
   "metadata": {
    "collapsed": true
   },
   "source": [
    "# Simple Monte Carlo Pi Calculation"
   ]
  },
  {
   "cell_type": "code",
   "execution_count": 1,
   "metadata": {
    "collapsed": false
   },
   "outputs": [
    {
     "name": "stdout",
     "output_type": "stream",
     "text": [
      "Pi is approximately 3.139980\n"
     ]
    }
   ],
   "source": [
    "import random\n",
    "\n",
    "N_darts = 1000000\n",
    "darts_rdd = (sc.parallelize(range(N_darts))\n",
    "               .map(lambda x: (random.random(), random.random()))\n",
    "               .filter(lambda (x,y): x*x + y*y <= 1.0))\n",
    "\n",
    "print(\"Pi is approximately %f\" % (4.0*darts_rdd.count()/float(N_darts)))"
   ]
  },
  {
   "cell_type": "code",
   "execution_count": null,
   "metadata": {
    "collapsed": true
   },
   "outputs": [],
   "source": []
  }
 ],
 "metadata": {
  "kernelspec": {
   "display_name": "Python 2",
   "language": "python",
   "name": "python2"
  },
  "language_info": {
   "codemirror_mode": {
    "name": "ipython",
    "version": 2
   },
   "file_extension": ".py",
   "mimetype": "text/x-python",
   "name": "python",
   "nbconvert_exporter": "python",
   "pygments_lexer": "ipython2",
   "version": "2.7.11"
  }
 },
 "nbformat": 4,
 "nbformat_minor": 0
}
