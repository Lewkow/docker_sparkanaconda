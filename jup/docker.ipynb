{
 "cells": [
  {
   "cell_type": "code",
   "execution_count": 1,
   "metadata": {
    "collapsed": true
   },
   "outputs": [],
   "source": [
    "test_rdd = sc.parallelize(range(10000000))\n",
    "test2_rdd = test_rdd.map(lambda x: 2*x)"
   ]
  },
  {
   "cell_type": "code",
   "execution_count": 2,
   "metadata": {
    "collapsed": false
   },
   "outputs": [
    {
     "name": "stdout",
     "output_type": "stream",
     "text": [
      "0 -> 0\n",
      "1 -> 2\n",
      "2 -> 4\n",
      "3 -> 6\n",
      "4 -> 8\n",
      "5 -> 10\n",
      "6 -> 12\n",
      "7 -> 14\n",
      "8 -> 16\n",
      "9 -> 18\n"
     ]
    }
   ],
   "source": [
    "test = test_rdd.collect()\n",
    "test2 = test2_rdd.collect()\n",
    "for i in range(10):\n",
    "    print(\"%d -> %d\" % (test[i], test2[i]))"
   ]
  },
  {
   "cell_type": "code",
   "execution_count": null,
   "metadata": {
    "collapsed": true
   },
   "outputs": [],
   "source": []
  }
 ],
 "metadata": {
  "kernelspec": {
   "display_name": "Python 2",
   "language": "python",
   "name": "python2"
  },
  "language_info": {
   "codemirror_mode": {
    "name": "ipython",
    "version": 2
   },
   "file_extension": ".py",
   "mimetype": "text/x-python",
   "name": "python",
   "nbconvert_exporter": "python",
   "pygments_lexer": "ipython2",
   "version": "2.7.11"
  }
 },
 "nbformat": 4,
 "nbformat_minor": 0
}
